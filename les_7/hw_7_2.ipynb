{
 "cells": [
  {
   "cell_type": "code",
   "execution_count": 2,
   "metadata": {},
   "outputs": [],
   "source": [
    "import numpy as np"
   ]
  },
  {
   "cell_type": "markdown",
   "metadata": {},
   "source": [
    "1. Решите линейную систему:\n",
    "$$\\begin{equation*}\n",
    "\\begin{vmatrix}\n",
    "\\mathbf{1} &amp; \\mathbf{2} &amp; \\mathbf{3} \\\\\n",
    "\\mathbf{4} &amp; \\mathbf{0} &amp; \\mathbf{6} \\\\\n",
    "\\mathbf{7} &amp; \\mathbf{8} &amp; \\mathbf{9}\n",
    "\\end{vmatrix} * X = \n",
    "\\begin{vmatrix}\n",
    "\\mathbf{12} \\\\\n",
    "\\mathbf{2} \\\\\n",
    "\\mathbf{1}\n",
    "\\end{vmatrix}\n",
    "\\end{equation*}$$"
   ]
  },
  {
   "cell_type": "code",
   "execution_count": 3,
   "metadata": {},
   "outputs": [
    {
     "data": {
      "text/plain": [
       "array([[1., 2., 3.],\n",
       "       [4., 0., 6.],\n",
       "       [7., 8., 9.]])"
      ]
     },
     "execution_count": 3,
     "metadata": {},
     "output_type": "execute_result"
    }
   ],
   "source": [
    "A = np.array([[1, 2, 3], [4, 0, 6], [7, 8, 9]], float)\n",
    "b = np.array([12, 2, 1], float)\n",
    "A"
   ]
  },
  {
   "cell_type": "code",
   "execution_count": 4,
   "metadata": {},
   "outputs": [
    {
     "data": {
      "text/plain": [
       "array([12.,  2.,  1.])"
      ]
     },
     "execution_count": 4,
     "metadata": {},
     "output_type": "execute_result"
    }
   ],
   "source": [
    "b"
   ]
  },
  {
   "cell_type": "code",
   "execution_count": 5,
   "metadata": {},
   "outputs": [
    {
     "data": {
      "text/plain": [
       "59.999999999999986"
      ]
     },
     "execution_count": 5,
     "metadata": {},
     "output_type": "execute_result"
    }
   ],
   "source": [
    "det_A = np.linalg.det(A)\n",
    "det_A"
   ]
  },
  {
   "cell_type": "code",
   "execution_count": 7,
   "metadata": {},
   "outputs": [
    {
     "name": "stdout",
     "output_type": "stream",
     "text": [
      "[-9.2         0.9         6.46666667]\n",
      "[-9.2         0.9         6.46666667]\n"
     ]
    }
   ],
   "source": [
    "# определитель матрицы A не равен нулю, найдем решение СЛАУ\n",
    "X1 = np.linalg.solve(A, b)\n",
    "X2 = np.dot(np.linalg.inv(A), b)\n",
    "print(X1)\n",
    "print(X2)"
   ]
  },
  {
   "cell_type": "code",
   "execution_count": 8,
   "metadata": {},
   "outputs": [
    {
     "name": "stdout",
     "output_type": "stream",
     "text": [
      "[12.  2.  1.]\n",
      "[12.  2.  1.]\n"
     ]
    }
   ],
   "source": [
    "# проверка:\n",
    "print(np.dot(A, X1))\n",
    "print(np.dot(A, X2))"
   ]
  },
  {
   "cell_type": "markdown",
   "metadata": {},
   "source": [
    "#### 2. Найдите псевдорешение:\n",
    "x + 2y – z = 1\n",
    "3x – 4y = 7\n",
    "8x – 5y + 2z = 12\n",
    "2x – 5z = 7\n",
    "11x +4y – 7z = 15\n"
   ]
  },
  {
   "cell_type": "code",
   "execution_count": 9,
   "metadata": {},
   "outputs": [
    {
     "data": {
      "text/plain": [
       "array([[ 1.,  2., -1.],\n",
       "       [ 3., -4.,  0.],\n",
       "       [ 8., -5.,  2.],\n",
       "       [ 2.,  0., -5.],\n",
       "       [11.,  4., -7.]])"
      ]
     },
     "execution_count": 9,
     "metadata": {},
     "output_type": "execute_result"
    }
   ],
   "source": [
    "A = np.array([[1, 2, -1], [3, -4, 0], [8, -5, 2], [2, 0, -5], [11, 4, -7]], float)\n",
    "b = np.array([1, 7, 12, 7, 15], float)\n",
    "A"
   ]
  },
  {
   "cell_type": "code",
   "execution_count": 10,
   "metadata": {},
   "outputs": [
    {
     "data": {
      "text/plain": [
       "array([ 1.,  7., 12.,  7., 15.])"
      ]
     },
     "execution_count": 10,
     "metadata": {},
     "output_type": "execute_result"
    }
   ],
   "source": [
    "b"
   ]
  },
  {
   "cell_type": "code",
   "execution_count": 11,
   "metadata": {},
   "outputs": [
    {
     "data": {
      "text/plain": [
       "array([ 1.13919353, -0.90498444, -0.9009803 ])"
      ]
     },
     "execution_count": 11,
     "metadata": {},
     "output_type": "execute_result"
    }
   ],
   "source": [
    "X = np.linalg.lstsq(A, b, rcond=None)[0]\n",
    "X"
   ]
  },
  {
   "cell_type": "code",
   "execution_count": 12,
   "metadata": {},
   "outputs": [
    {
     "name": "stdout",
     "output_type": "stream",
     "text": [
      "[ 0.23020495  7.03751834 11.83650981  6.78328855 15.21805313]\n"
     ]
    }
   ],
   "source": [
    "# проверка:\n",
    "print(np.dot(A, X))"
   ]
  },
  {
   "cell_type": "markdown",
   "metadata": {},
   "source": [
    "#### 3. Сколько решений имеет линейная система:\n",
    "$$\\begin{equation*}\n",
    "\\begin{vmatrix}\n",
    "\\mathbf{1} &amp; \\mathbf{2} &amp; \\mathbf{3} \\\\\n",
    "\\mathbf{4} &amp; \\mathbf{5} &amp; \\mathbf{6} \\\\\n",
    "\\mathbf{7} &amp; \\mathbf{8} &amp; \\mathbf{9}\n",
    "\\end{vmatrix} * X = \n",
    "\\begin{vmatrix}\n",
    "\\mathbf{12} \\\\\n",
    "\\mathbf{2} \\\\\n",
    "\\mathbf{1}\n",
    "\\end{vmatrix}\n",
    "\\end{equation*}$$\n",
    "\n",
    "\n",
    "\n",
    "Если ноль – то измените вектор правой части так, чтобы система стала совместной, и решите ее. \n"
   ]
  },
  {
   "cell_type": "code",
   "execution_count": 13,
   "metadata": {},
   "outputs": [
    {
     "name": "stdout",
     "output_type": "stream",
     "text": [
      "0.0\n"
     ]
    }
   ],
   "source": [
    "A = np.array([[1, 2, 3], [4, 5, 6], [7, 8, 9]], float)\n",
    "b = np.array([[12, 2, 0]], float)\n",
    "\n",
    "det_A = np.linalg.det(A)\n",
    "\n",
    "print(np.round(det_A))"
   ]
  },
  {
   "cell_type": "code",
   "execution_count": 14,
   "metadata": {},
   "outputs": [
    {
     "name": "stdout",
     "output_type": "stream",
     "text": [
      "[[ 1.  2.  3. 12.]\n",
      " [ 4.  5.  6.  2.]\n",
      " [ 7.  8.  9.  0.]]\n"
     ]
    }
   ],
   "source": [
    "# определитель матрицы A равен 0\n",
    "# посчитаем расширенную матрицу C\n",
    "C = np.concatenate((A, b.T), axis=1)\n",
    "print(C)"
   ]
  },
  {
   "cell_type": "code",
   "execution_count": 16,
   "metadata": {},
   "outputs": [
    {
     "name": "stdout",
     "output_type": "stream",
     "text": [
      "2 2\n"
     ]
    }
   ],
   "source": [
    "rank_A, rank_C = np.linalg.matrix_rank(A, 0.0001), np.linalg.matrix_rank(C, 0.0001)\n",
    "print(rank_A, rank_C)"
   ]
  },
  {
   "cell_type": "code",
   "execution_count": 17,
   "metadata": {},
   "outputs": [
    {
     "name": "stdout",
     "output_type": "stream",
     "text": [
      "[[ 1.  2.  3. 12.]\n",
      " [ 4.  5.  6. 15.]\n",
      " [ 7.  8.  9. 18.]]\n"
     ]
    }
   ],
   "source": [
    "# ранг расширенной матрицы C больше ранга матрицы A\n",
    "# система не имеет ни одно решения\n",
    "# изменим вектор b\n",
    "b = np.array([[12, 15, 18]], float)\n",
    "# посчитаем расширенную матрицу C с учетом измененного вектора b\n",
    "C = np.concatenate((A, b.T), axis=1)\n",
    "print(C)"
   ]
  },
  {
   "cell_type": "code",
   "execution_count": 18,
   "metadata": {},
   "outputs": [
    {
     "name": "stdout",
     "output_type": "stream",
     "text": [
      "2 2\n"
     ]
    }
   ],
   "source": [
    "rank_A, rank_C = np.linalg.matrix_rank(A, 0.0001), np.linalg.matrix_rank(C, 0.0001)\n",
    "print(rank_A, rank_C)"
   ]
  },
  {
   "cell_type": "code",
   "execution_count": 19,
   "metadata": {},
   "outputs": [
    {
     "name": "stdout",
     "output_type": "stream",
     "text": [
      "[-4.66666667  0.33333333  5.33333333]\n"
     ]
    }
   ],
   "source": [
    "# ранги матрицы A и расширенной матрицы C совпадают\n",
    "# согласно теореме Кронекера-Капелли в таком случае, есть хотя бы одно решение\n",
    "# так как ранг матрицы A меньше кол-ва неизвестных, то имеется бесконечное множество решений\n",
    "X = np.linalg.lstsq(A, b[0], rcond=None)[0]\n",
    "print(X)"
   ]
  },
  {
   "cell_type": "code",
   "execution_count": 20,
   "metadata": {},
   "outputs": [
    {
     "name": "stdout",
     "output_type": "stream",
     "text": [
      "[12. 15. 18.]\n"
     ]
    }
   ],
   "source": [
    "# проверка:\n",
    "print(np.dot(A, X))"
   ]
  },
  {
   "cell_type": "markdown",
   "metadata": {},
   "source": [
    "#### 4. Вычислите LU-разложение матрицы:\n",
    "\n",
    "После этого придумайте вектор правых частей и решите полученную линейную систему трех уравнений с данной матрицей."
   ]
  },
  {
   "cell_type": "code",
   "execution_count": 21,
   "metadata": {},
   "outputs": [
    {
     "name": "stdout",
     "output_type": "stream",
     "text": [
      "[[ 1.  2.  3.]\n",
      " [ 2. 16. 21.]\n",
      " [ 4. 28. 73.]]\n"
     ]
    }
   ],
   "source": [
    "import scipy\n",
    "import scipy.linalg\n",
    "A = np.array([[1, 2, 3], [2, 16, 21], [4, 28, 73]], float)\n",
    "print(A)"
   ]
  },
  {
   "cell_type": "code",
   "execution_count": 22,
   "metadata": {},
   "outputs": [
    {
     "name": "stdout",
     "output_type": "stream",
     "text": [
      "P: \n",
      "[[0. 1. 0.]\n",
      " [0. 0. 1.]\n",
      " [1. 0. 0.]]\n",
      "L: \n",
      "[[ 1.    0.    0.  ]\n",
      " [ 0.25  1.    0.  ]\n",
      " [ 0.5  -0.4   1.  ]]\n",
      "U: \n",
      "[[  4.    28.    73.  ]\n",
      " [  0.    -5.   -15.25]\n",
      " [  0.     0.   -21.6 ]]\n"
     ]
    }
   ],
   "source": [
    "# LU-разложение матрицы A\n",
    "P, L, U = scipy.linalg.lu(A)\n",
    "print(f'P: \\n{P}')\n",
    "print(f'L: \\n{L}')\n",
    "print(f'U: \\n{U}')"
   ]
  },
  {
   "cell_type": "code",
   "execution_count": 23,
   "metadata": {},
   "outputs": [
    {
     "name": "stdout",
     "output_type": "stream",
     "text": [
      "[ 4. 28. 94.]\n"
     ]
    }
   ],
   "source": [
    "b = np.array([4, 28, 94], float)\n",
    "print(b)"
   ]
  },
  {
   "cell_type": "code",
   "execution_count": 24,
   "metadata": {},
   "outputs": [
    {
     "name": "stdout",
     "output_type": "stream",
     "text": [
      "432.0\n"
     ]
    }
   ],
   "source": [
    "det_A = np.linalg.det(A)\n",
    "print(np.round(det_A))"
   ]
  },
  {
   "cell_type": "code",
   "execution_count": 25,
   "metadata": {},
   "outputs": [
    {
     "name": "stdout",
     "output_type": "stream",
     "text": [
      "[0.0462963  0.11574074 1.24074074]\n"
     ]
    }
   ],
   "source": [
    "X = np.linalg.solve(A, b)\n",
    "print(X)"
   ]
  },
  {
   "cell_type": "code",
   "execution_count": 26,
   "metadata": {},
   "outputs": [
    {
     "name": "stdout",
     "output_type": "stream",
     "text": [
      "[ 4. 28. 94.]\n"
     ]
    }
   ],
   "source": [
    "# проверка:\n",
    "print(np.dot(A, X))"
   ]
  },
  {
   "cell_type": "markdown",
   "metadata": {},
   "source": [
    "5. Найдите нормальное псевдорешение недоопределенной системы:\n",
    "x + 2y – z = 1\n",
    "8x – 5y + 2z = 12\n",
    "Для этого определите функцию Q(x,y,z), равную норме решения, и найдите ее минимум."
   ]
  },
  {
   "cell_type": "code",
   "execution_count": 29,
   "metadata": {},
   "outputs": [
    {
     "name": "stdout",
     "output_type": "stream",
     "text": [
      "[[ 1.  2. -1.]\n",
      " [ 8. -5.  2.]]\n",
      "[ 1. 12.]\n"
     ]
    }
   ],
   "source": [
    "import matplotlib.pyplot as plt\n",
    "%matplotlib inline\n",
    "A = np.array([[1, 2, -1], [8, -5, 2]], float)\n",
    "b = np.array([1, 12], float)\n",
    "print(A)\n",
    "print(b)"
   ]
  },
  {
   "cell_type": "code",
   "execution_count": 30,
   "metadata": {},
   "outputs": [],
   "source": [
    "def Q(x, y, z):\n",
    "    return (x**2 + y**2 + z**2)"
   ]
  },
  {
   "cell_type": "code",
   "execution_count": 31,
   "metadata": {},
   "outputs": [
    {
     "data": {
      "image/png": "[encoded data removed]",
      "text/plain": [
       "<Figure size 432x288 with 1 Axes>"
      ]
     },
     "metadata": {
      "needs_background": "light"
     },
     "output_type": "display_data"
    }
   ],
   "source": [
    "# итерация 1\n",
    "x = np.linspace(-5, 5, 201)\n",
    "y = 10 * x - 14\n",
    "z = x + 2 * y - 1\n",
    "\n",
    "plt.plot(x, Q(x, y, z))\n",
    "plt.xlabel('x')\n",
    "plt.ylabel('Q(x, y, z)')\n",
    "plt.grid(True)\n",
    "plt.show()"
   ]
  },
  {
   "cell_type": "code",
   "execution_count": 32,
   "metadata": {},
   "outputs": [
    {
     "data": {
      "image/png": "[encoded data removed]",
      "text/plain": [
       "<Figure size 432x288 with 1 Axes>"
      ]
     },
     "metadata": {
      "needs_background": "light"
     },
     "output_type": "display_data"
    }
   ],
   "source": [
    "# итерация 2\n",
    "x = np.linspace(0, 2, 201)\n",
    "y = 10 * x - 14\n",
    "z = x + 2 * y - 1\n",
    "\n",
    "plt.plot(x, Q(x, y, z))\n",
    "plt.xlabel('x')\n",
    "plt.ylabel('Q(x, y, z)')\n",
    "plt.grid(True)\n",
    "plt.show()"
   ]
  },
  {
   "cell_type": "code",
   "execution_count": 33,
   "metadata": {},
   "outputs": [
    {
     "data": {
      "image/png": "[encoded data removed]",
      "text/plain": [
       "<Figure size 432x288 with 1 Axes>"
      ]
     },
     "metadata": {
      "needs_background": "light"
     },
     "output_type": "display_data"
    }
   ],
   "source": [
    "# итерация 3\n",
    "x = np.linspace(1.25, 1.5, 201)\n",
    "y = 10 * x - 14\n",
    "z = x + 2 * y - 1\n",
    "\n",
    "plt.plot(x, Q(x, y, z))\n",
    "plt.xlabel('x')\n",
    "plt.ylabel('Q(x, y, z)')\n",
    "plt.grid(True)\n",
    "plt.show()"
   ]
  },
  {
   "cell_type": "code",
   "execution_count": 35,
   "metadata": {},
   "outputs": [
    {
     "name": "stdout",
     "output_type": "stream",
     "text": [
      "[ 1.38 -0.2  -0.02]\n"
     ]
    }
   ],
   "source": [
    "# исходя из визуального анализа гарафика:\n",
    "x = 1.38\n",
    "y = 10 * x - 14\n",
    "z = x + 2 * y - 1\n",
    "X1 = np.array([x, y, z])\n",
    "print(X1)"
   ]
  },
  {
   "cell_type": "code",
   "execution_count": 36,
   "metadata": {},
   "outputs": [
    {
     "name": "stdout",
     "output_type": "stream",
     "text": [
      "[ 1.38191882 -0.18081181  0.0202952 ]\n"
     ]
    }
   ],
   "source": [
    "# нормальное пвсевдорешение численным методом:\n",
    "X2 = np.linalg.lstsq(A, b, rcond=None)[0]\n",
    "print(X2)"
   ]
  },
  {
   "cell_type": "code",
   "execution_count": 37,
   "metadata": {},
   "outputs": [
    {
     "name": "stdout",
     "output_type": "stream",
     "text": [
      "[ 1. 12.]\n",
      "[ 1. 12.]\n"
     ]
    }
   ],
   "source": [
    "# проверка:\n",
    "print(np.dot(A, X1))\n",
    "print(np.dot(A, X2))"
   ]
  },
  {
   "cell_type": "markdown",
   "metadata": {},
   "source": [
    "6. Найдите одно из псевдорешений вырожденной системы.\n",
    "$$\\begin{equation*}\n",
    "\\begin{vmatrix}\n",
    "\\mathbf{1} &amp; \\mathbf{2} &amp; \\mathbf{3} \\\\\n",
    "\\mathbf{4} &amp; \\mathbf{5} &amp; \\mathbf{6} \\\\\n",
    "\\mathbf{7} &amp; \\mathbf{8} &amp; \\mathbf{9}\n",
    "\\end{vmatrix} * X = \n",
    "\\begin{vmatrix}\n",
    "\\mathbf{2} \\\\\n",
    "\\mathbf{5} \\\\\n",
    "\\mathbf{11}\n",
    "\\end{vmatrix}\n",
    "\\end{equation*}$$\n",
    "\n",
    "\n",
    "Попробуйте также отыскать и нормальное псевдорешение."
   ]
  },
  {
   "cell_type": "code",
   "execution_count": 42,
   "metadata": {},
   "outputs": [
    {
     "name": "stdout",
     "output_type": "stream",
     "text": [
      "[[1. 2. 3.]\n",
      " [4. 5. 6.]\n",
      " [7. 8. 9.]]\n",
      "[ 2  5 11]\n"
     ]
    }
   ],
   "source": [
    "A = np.array([[1, 2, 3], [4, 5 ,6], [7, 8, 9]], float)\n",
    "b = np.array([2, 5, 11])\n",
    "print(A)\n",
    "print(b)"
   ]
  },
  {
   "cell_type": "code",
   "execution_count": 43,
   "metadata": {},
   "outputs": [
    {
     "name": "stdout",
     "output_type": "stream",
     "text": [
      "0.0\n"
     ]
    }
   ],
   "source": [
    "det_A = np.linalg.det(A)\n",
    "print(np.round(det_A))"
   ]
  },
  {
   "cell_type": "code",
   "execution_count": 44,
   "metadata": {},
   "outputs": [
    {
     "name": "stdout",
     "output_type": "stream",
     "text": [
      "Q: \n",
      "[[-0.12309149  0.90453403  0.40824829]\n",
      " [-0.49236596  0.30151134 -0.81649658]\n",
      " [-0.86164044 -0.30151134  0.40824829]]\n",
      "R: \n",
      "[[-8.12403840e+00 -9.60113630e+00 -1.10782342e+01]\n",
      " [ 0.00000000e+00  9.04534034e-01  1.80906807e+00]\n",
      " [ 0.00000000e+00  0.00000000e+00 -1.77635684e-15]]\n"
     ]
    }
   ],
   "source": [
    "Q, R = np.linalg.qr(A)\n",
    "print(f'Q: \\n{Q}')\n",
    "print(f'R: \\n{R}')"
   ]
  },
  {
   "cell_type": "code",
   "execution_count": 45,
   "metadata": {},
   "outputs": [
    {
     "name": "stdout",
     "output_type": "stream",
     "text": [
      "[[-8.1240384  -9.6011363 ]\n",
      " [ 0.          0.90453403]]\n"
     ]
    }
   ],
   "source": [
    "R1 = R[:2, :2]\n",
    "print(R1)"
   ]
  },
  {
   "cell_type": "code",
   "execution_count": 46,
   "metadata": {},
   "outputs": [
    {
     "name": "stdout",
     "output_type": "stream",
     "text": [
      "[-1.21860576e+01  8.43769499e-15]\n"
     ]
    }
   ],
   "source": [
    "b1 = np.dot(Q.T, b)[:2]\n",
    "print(b1)"
   ]
  },
  {
   "cell_type": "code",
   "execution_count": 47,
   "metadata": {},
   "outputs": [
    {
     "name": "stdout",
     "output_type": "stream",
     "text": [
      "[1.50000000e+00 9.32822279e-15 0.00000000e+00]\n"
     ]
    }
   ],
   "source": [
    "# найдем псевдорешение:\n",
    "X1 = np.append(np.linalg.solve(R1, b1), 0)\n",
    "print(X1)"
   ]
  },
  {
   "cell_type": "code",
   "execution_count": null,
   "metadata": {},
   "outputs": [],
   "source": [
    "# найдем нормальное псевдорешени:\n",
    "X2 = np.linalg.lstsq(A, b, rcond=None)[0]\n",
    "print(X2)"
   ]
  },
  {
   "cell_type": "code",
   "execution_count": 48,
   "metadata": {},
   "outputs": [
    {
     "name": "stdout",
     "output_type": "stream",
     "text": [
      "1.4999999999999896\n",
      "1.3938451951505524\n"
     ]
    }
   ],
   "source": [
    "# нормы векторов псевдорешения и нормального псевдорешения:\n",
    "print(np.linalg.norm(X1))\n",
    "print(np.linalg.norm(X2))"
   ]
  },
  {
   "cell_type": "code",
   "execution_count": 49,
   "metadata": {},
   "outputs": [
    {
     "name": "stdout",
     "output_type": "stream",
     "text": [
      "[ 1.5  6.  10.5]\n",
      "[1.08118081 4.74538745 8.4095941 ]\n"
     ]
    }
   ],
   "source": [
    "# проверка:\n",
    "print(np.dot(A, X1))\n",
    "print(np.dot(A, X2))"
   ]
  },
  {
   "cell_type": "code",
   "execution_count": null,
   "metadata": {},
   "outputs": [],
   "source": []
  },
  {
   "cell_type": "code",
   "execution_count": null,
   "metadata": {},
   "outputs": [],
   "source": []
  },
  {
   "cell_type": "code",
   "execution_count": null,
   "metadata": {},
   "outputs": [],
   "source": []
  },
  {
   "cell_type": "code",
   "execution_count": null,
   "metadata": {},
   "outputs": [],
   "source": []
  },
  {
   "cell_type": "code",
   "execution_count": null,
   "metadata": {},
   "outputs": [],
   "source": []
  },
  {
   "cell_type": "code",
   "execution_count": null,
   "metadata": {},
   "outputs": [],
   "source": []
  },
  {
   "cell_type": "code",
   "execution_count": null,
   "metadata": {},
   "outputs": [],
   "source": []
  },
  {
   "cell_type": "code",
   "execution_count": null,
   "metadata": {},
   "outputs": [],
   "source": []
  },
  {
   "cell_type": "code",
   "execution_count": null,
   "metadata": {},
   "outputs": [],
   "source": []
  }
 ],
 "metadata": {
  "kernelspec": {
   "display_name": "Python 3",
   "language": "python",
   "name": "python3"
  },
  "language_info": {
   "codemirror_mode": {
    "name": "ipython",
    "version": 3
   },
   "file_extension": ".py",
   "mimetype": "text/x-python",
   "name": "python",
   "nbconvert_exporter": "python",
   "pygments_lexer": "ipython3",
   "version": "3.8.5"
  }
 },
 "nbformat": 4,
 "nbformat_minor": 4
}
